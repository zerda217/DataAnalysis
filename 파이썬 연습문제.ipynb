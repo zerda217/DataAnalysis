{
 "cells": [
  {
   "cell_type": "code",
   "execution_count": 23,
   "id": "0c4d3267",
   "metadata": {},
   "outputs": [],
   "source": [
    "Eunma = 110\n",
    "Money = 5\n",
    "Year = 1988"
   ]
  },
  {
   "cell_type": "code",
   "execution_count": 25,
   "id": "252ce0a9",
   "metadata": {},
   "outputs": [
    {
     "name": "stdout",
     "output_type": "stream",
     "text": [
      "9.419332433478758\n"
     ]
    }
   ],
   "source": [
    "while Year <= 2015 :\n",
    "    Year = Year + 1\n",
    "    Money *= 1.12\n",
    "#     print(Year)\n",
    "#     print(Money)"
   ]
  },
  {
   "cell_type": "code",
   "execution_count": 32,
   "id": "076436bb",
   "metadata": {},
   "outputs": [
    {
     "name": "stdout",
     "output_type": "stream",
     "text": [
      "9천만원의 차이로 미란 아주머니 말씀이 맞습니다.\n"
     ]
    }
   ],
   "source": [
    "if Money - Eunma > 0:\n",
    "    sum = round(Money - Eunma) #자릿수 반올림\n",
    "    print(f'{sum}천만원의 차이로 미란 아주머니 말씀이 맞습니다.' )\n",
    "else:\n",
    "    print(f'{sum}천만원의 차이로 동일 아저씨 말씀이 맞습니다.' )"
   ]
  },
  {
   "cell_type": "code",
   "execution_count": null,
   "id": "96fb4d62",
   "metadata": {},
   "outputs": [],
   "source": []
  }
 ],
 "metadata": {
  "kernelspec": {
   "display_name": "Python 3",
   "language": "python",
   "name": "python3"
  },
  "language_info": {
   "codemirror_mode": {
    "name": "ipython",
    "version": 3
   },
   "file_extension": ".py",
   "mimetype": "text/x-python",
   "name": "python",
   "nbconvert_exporter": "python",
   "pygments_lexer": "ipython3",
   "version": "3.8.8"
  }
 },
 "nbformat": 4,
 "nbformat_minor": 5
}
